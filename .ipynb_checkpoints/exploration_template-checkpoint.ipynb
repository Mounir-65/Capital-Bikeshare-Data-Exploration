{
 "cells": [
  {
   "cell_type": "markdown",
   "metadata": {},
   "source": [
    "# 2019 Capital Bikeshare Data Exploration\n",
    "\n",
    "## by Mohamed Mounir Awadallah\n",
    "\n",
    "## Preliminary Wrangling\n",
    "\n",
    "This document explores a dataset containing information about rides made in a bike-sharing system covering the **Washington DC Metro Area**.\n",
    "The dataset used for this exploratory analysis consists of monthly individual trip data from January 2019 to December 2019 in CSV format, also available [here](https://s3.amazonaws.com/capitalbikeshare-data/index.html)."
   ]
  },
  {
   "cell_type": "code",
   "execution_count": 1,
   "metadata": {},
   "outputs": [],
   "source": [
    "# import all packages and set plots to be embedded inline\n",
    "import numpy as np\n",
    "import pandas as pd\n",
    "import matplotlib.pyplot as plt\n",
    "import seaborn as sb\n",
    "from glob import glob\n",
    "%matplotlib inline\n",
    "\n",
    "import warnings\n",
    "warnings.filterwarnings('ignore')"
   ]
  },
  {
   "cell_type": "code",
   "execution_count": 2,
   "metadata": {},
   "outputs": [],
   "source": [
    "# load in the datasets into pandas dataframes\n",
    "data_files = sorted(glob('./data/*-capitalbikeshare-tripdata.csv'))\n",
    "cabital = pd.concat((pd.read_csv(file).assign(filename = file)\n",
    "                    for file in data_files), ignore_index = True)"
   ]
  },
  {
   "cell_type": "code",
   "execution_count": 3,
   "metadata": {
    "scrolled": false
   },
   "outputs": [
    {
     "data": {
      "text/html": [
       "<div>\n",
       "<style scoped>\n",
       "    .dataframe tbody tr th:only-of-type {\n",
       "        vertical-align: middle;\n",
       "    }\n",
       "\n",
       "    .dataframe tbody tr th {\n",
       "        vertical-align: top;\n",
       "    }\n",
       "\n",
       "    .dataframe thead th {\n",
       "        text-align: right;\n",
       "    }\n",
       "</style>\n",
       "<table border=\"1\" class=\"dataframe\">\n",
       "  <thead>\n",
       "    <tr style=\"text-align: right;\">\n",
       "      <th></th>\n",
       "      <th>Duration</th>\n",
       "      <th>Start date</th>\n",
       "      <th>End date</th>\n",
       "      <th>Start station number</th>\n",
       "      <th>Start station</th>\n",
       "      <th>End station number</th>\n",
       "      <th>End station</th>\n",
       "      <th>Bike number</th>\n",
       "      <th>Member type</th>\n",
       "      <th>filename</th>\n",
       "    </tr>\n",
       "  </thead>\n",
       "  <tbody>\n",
       "    <tr>\n",
       "      <th>0</th>\n",
       "      <td>230</td>\n",
       "      <td>2019-01-01 00:04:48</td>\n",
       "      <td>2019-01-01 00:08:39</td>\n",
       "      <td>31203</td>\n",
       "      <td>14th &amp; Rhode Island Ave NW</td>\n",
       "      <td>31200</td>\n",
       "      <td>Massachusetts Ave &amp; Dupont Circle NW</td>\n",
       "      <td>E00141</td>\n",
       "      <td>Member</td>\n",
       "      <td>./data\\201901-capitalbikeshare-tripdata.csv</td>\n",
       "    </tr>\n",
       "    <tr>\n",
       "      <th>1</th>\n",
       "      <td>1549</td>\n",
       "      <td>2019-01-01 00:06:37</td>\n",
       "      <td>2019-01-01 00:32:27</td>\n",
       "      <td>31321</td>\n",
       "      <td>15th St &amp; Constitution Ave NW</td>\n",
       "      <td>31114</td>\n",
       "      <td>18th St &amp; Wyoming Ave NW</td>\n",
       "      <td>W24067</td>\n",
       "      <td>Casual</td>\n",
       "      <td>./data\\201901-capitalbikeshare-tripdata.csv</td>\n",
       "    </tr>\n",
       "    <tr>\n",
       "      <th>2</th>\n",
       "      <td>177</td>\n",
       "      <td>2019-01-01 00:08:46</td>\n",
       "      <td>2019-01-01 00:11:44</td>\n",
       "      <td>31104</td>\n",
       "      <td>Adams Mill &amp; Columbia Rd NW</td>\n",
       "      <td>31323</td>\n",
       "      <td>Woodley Park Metro / Calvert St &amp; Connecticut ...</td>\n",
       "      <td>W22654</td>\n",
       "      <td>Casual</td>\n",
       "      <td>./data\\201901-capitalbikeshare-tripdata.csv</td>\n",
       "    </tr>\n",
       "    <tr>\n",
       "      <th>3</th>\n",
       "      <td>228</td>\n",
       "      <td>2019-01-01 00:08:47</td>\n",
       "      <td>2019-01-01 00:12:35</td>\n",
       "      <td>31281</td>\n",
       "      <td>8th &amp; O St NW</td>\n",
       "      <td>31280</td>\n",
       "      <td>11th &amp; S St NW</td>\n",
       "      <td>W22336</td>\n",
       "      <td>Member</td>\n",
       "      <td>./data\\201901-capitalbikeshare-tripdata.csv</td>\n",
       "    </tr>\n",
       "    <tr>\n",
       "      <th>4</th>\n",
       "      <td>1300</td>\n",
       "      <td>2019-01-01 00:12:29</td>\n",
       "      <td>2019-01-01 00:34:10</td>\n",
       "      <td>31014</td>\n",
       "      <td>Lynn &amp; 19th St North</td>\n",
       "      <td>31923</td>\n",
       "      <td>Columbia Pike &amp; S Taylor St</td>\n",
       "      <td>70004</td>\n",
       "      <td>Member</td>\n",
       "      <td>./data\\201901-capitalbikeshare-tripdata.csv</td>\n",
       "    </tr>\n",
       "  </tbody>\n",
       "</table>\n",
       "</div>"
      ],
      "text/plain": [
       "   Duration           Start date             End date  Start station number  \\\n",
       "0       230  2019-01-01 00:04:48  2019-01-01 00:08:39                 31203   \n",
       "1      1549  2019-01-01 00:06:37  2019-01-01 00:32:27                 31321   \n",
       "2       177  2019-01-01 00:08:46  2019-01-01 00:11:44                 31104   \n",
       "3       228  2019-01-01 00:08:47  2019-01-01 00:12:35                 31281   \n",
       "4      1300  2019-01-01 00:12:29  2019-01-01 00:34:10                 31014   \n",
       "\n",
       "                   Start station  End station number  \\\n",
       "0     14th & Rhode Island Ave NW               31200   \n",
       "1  15th St & Constitution Ave NW               31114   \n",
       "2    Adams Mill & Columbia Rd NW               31323   \n",
       "3                  8th & O St NW               31280   \n",
       "4           Lynn & 19th St North               31923   \n",
       "\n",
       "                                         End station Bike number Member type  \\\n",
       "0               Massachusetts Ave & Dupont Circle NW      E00141      Member   \n",
       "1                           18th St & Wyoming Ave NW      W24067      Casual   \n",
       "2  Woodley Park Metro / Calvert St & Connecticut ...      W22654      Casual   \n",
       "3                                     11th & S St NW      W22336      Member   \n",
       "4                        Columbia Pike & S Taylor St       70004      Member   \n",
       "\n",
       "                                      filename  \n",
       "0  ./data\\201901-capitalbikeshare-tripdata.csv  \n",
       "1  ./data\\201901-capitalbikeshare-tripdata.csv  \n",
       "2  ./data\\201901-capitalbikeshare-tripdata.csv  \n",
       "3  ./data\\201901-capitalbikeshare-tripdata.csv  \n",
       "4  ./data\\201901-capitalbikeshare-tripdata.csv  "
      ]
     },
     "execution_count": 3,
     "metadata": {},
     "output_type": "execute_result"
    }
   ],
   "source": [
    "cabital.head()"
   ]
  },
  {
   "cell_type": "code",
   "execution_count": 4,
   "metadata": {
    "scrolled": true
   },
   "outputs": [
    {
     "name": "stdout",
     "output_type": "stream",
     "text": [
      "<class 'pandas.core.frame.DataFrame'>\n",
      "RangeIndex: 3398417 entries, 0 to 3398416\n",
      "Data columns (total 10 columns):\n",
      " #   Column                Dtype \n",
      "---  ------                ----- \n",
      " 0   Duration              int64 \n",
      " 1   Start date            object\n",
      " 2   End date              object\n",
      " 3   Start station number  int64 \n",
      " 4   Start station         object\n",
      " 5   End station number    int64 \n",
      " 6   End station           object\n",
      " 7   Bike number           object\n",
      " 8   Member type           object\n",
      " 9   filename              object\n",
      "dtypes: int64(3), object(7)\n",
      "memory usage: 259.3+ MB\n"
     ]
    }
   ],
   "source": [
    "# Print a concise summary of the data\n",
    "cabital.info()"
   ]
  },
  {
   "cell_type": "code",
   "execution_count": 5,
   "metadata": {},
   "outputs": [
    {
     "data": {
      "text/html": [
       "<div>\n",
       "<style scoped>\n",
       "    .dataframe tbody tr th:only-of-type {\n",
       "        vertical-align: middle;\n",
       "    }\n",
       "\n",
       "    .dataframe tbody tr th {\n",
       "        vertical-align: top;\n",
       "    }\n",
       "\n",
       "    .dataframe thead th {\n",
       "        text-align: right;\n",
       "    }\n",
       "</style>\n",
       "<table border=\"1\" class=\"dataframe\">\n",
       "  <thead>\n",
       "    <tr style=\"text-align: right;\">\n",
       "      <th></th>\n",
       "      <th>Duration</th>\n",
       "      <th>Start station number</th>\n",
       "      <th>End station number</th>\n",
       "    </tr>\n",
       "  </thead>\n",
       "  <tbody>\n",
       "    <tr>\n",
       "      <th>count</th>\n",
       "      <td>3.398417e+06</td>\n",
       "      <td>3.398417e+06</td>\n",
       "      <td>3.398417e+06</td>\n",
       "    </tr>\n",
       "    <tr>\n",
       "      <th>mean</th>\n",
       "      <td>1.069698e+03</td>\n",
       "      <td>3.133744e+04</td>\n",
       "      <td>3.133799e+04</td>\n",
       "    </tr>\n",
       "    <tr>\n",
       "      <th>std</th>\n",
       "      <td>2.205485e+03</td>\n",
       "      <td>4.488496e+02</td>\n",
       "      <td>4.439744e+02</td>\n",
       "    </tr>\n",
       "    <tr>\n",
       "      <th>min</th>\n",
       "      <td>6.000000e+01</td>\n",
       "      <td>0.000000e+00</td>\n",
       "      <td>0.000000e+00</td>\n",
       "    </tr>\n",
       "    <tr>\n",
       "      <th>25%</th>\n",
       "      <td>3.960000e+02</td>\n",
       "      <td>3.120400e+04</td>\n",
       "      <td>3.121200e+04</td>\n",
       "    </tr>\n",
       "    <tr>\n",
       "      <th>50%</th>\n",
       "      <td>6.800000e+02</td>\n",
       "      <td>3.126500e+04</td>\n",
       "      <td>3.126400e+04</td>\n",
       "    </tr>\n",
       "    <tr>\n",
       "      <th>75%</th>\n",
       "      <td>1.152000e+03</td>\n",
       "      <td>3.152400e+04</td>\n",
       "      <td>3.152400e+04</td>\n",
       "    </tr>\n",
       "    <tr>\n",
       "      <th>max</th>\n",
       "      <td>8.636500e+04</td>\n",
       "      <td>3.260900e+04</td>\n",
       "      <td>3.260900e+04</td>\n",
       "    </tr>\n",
       "  </tbody>\n",
       "</table>\n",
       "</div>"
      ],
      "text/plain": [
       "           Duration  Start station number  End station number\n",
       "count  3.398417e+06          3.398417e+06        3.398417e+06\n",
       "mean   1.069698e+03          3.133744e+04        3.133799e+04\n",
       "std    2.205485e+03          4.488496e+02        4.439744e+02\n",
       "min    6.000000e+01          0.000000e+00        0.000000e+00\n",
       "25%    3.960000e+02          3.120400e+04        3.121200e+04\n",
       "50%    6.800000e+02          3.126500e+04        3.126400e+04\n",
       "75%    1.152000e+03          3.152400e+04        3.152400e+04\n",
       "max    8.636500e+04          3.260900e+04        3.260900e+04"
      ]
     },
     "execution_count": 5,
     "metadata": {},
     "output_type": "execute_result"
    }
   ],
   "source": [
    "# Print a concise summary statistics\n",
    "cabital.describe()"
   ]
  },
  {
   "cell_type": "markdown",
   "metadata": {},
   "source": [
    "### What is the structure of your dataset?\n",
    "\n",
    "\n",
    "The data includes:\n",
    "- `Duration` – Duration of trip\n",
    "- `Start Date` – Includes start date and time\n",
    "- `End Date` – Includes end date and time\n",
    "- `Start Station` – Includes starting station name and number\n",
    "- `End Station` – Includes ending station name and number\n",
    "- `Bike Number` – Includes ID number of bike used for the trip\n",
    "- `Member Type` – Indicates whether user was a \"registered\" member (Annual Member, 30-Day Member or Day Key Member) or a \"casual\" rider (Single Trip, 24-Hour Pass, 3-Day Pass or 5-Day Pass)\n",
    "\n",
    "### What are the main features of interest in your dataset?\n",
    "- What is the average trip duration?\n",
    "- When are most trips taken?\n",
    "- What are the most common starting and ending stations?\n",
    "- Does the above depend on if a user is a subscriber or customer?\n",
    "\n",
    "### What features in the dataset do you think will help support your investigation into your feature(s) of interest?\n",
    "\n",
    "- `Duration`\n",
    "- `Start Date`\n",
    "- `Start Station`\n",
    "- `End Station`\n",
    "- `Member Type`"
   ]
  },
  {
   "cell_type": "markdown",
   "metadata": {},
   "source": [
    "## Univariate Exploration\n"
   ]
  },
  {
   "cell_type": "code",
   "execution_count": 6,
   "metadata": {},
   "outputs": [],
   "source": [
    "# changing the duration unit to minutes\n",
    "cabital['Duration'] = (cabital['Duration'] / 60).round(2)"
   ]
  },
  {
   "cell_type": "code",
   "execution_count": 7,
   "metadata": {},
   "outputs": [],
   "source": [
    "# converting start date and end date data types into datetime\n",
    "cabital['Start date'] = pd.to_datetime(cabital['Start date'])\n",
    "cabital['End date'] = pd.to_datetime(cabital['End date'])"
   ]
  },
  {
   "cell_type": "code",
   "execution_count": 8,
   "metadata": {
    "scrolled": false
   },
   "outputs": [
    {
     "data": {
      "text/html": [
       "<div>\n",
       "<style scoped>\n",
       "    .dataframe tbody tr th:only-of-type {\n",
       "        vertical-align: middle;\n",
       "    }\n",
       "\n",
       "    .dataframe tbody tr th {\n",
       "        vertical-align: top;\n",
       "    }\n",
       "\n",
       "    .dataframe thead th {\n",
       "        text-align: right;\n",
       "    }\n",
       "</style>\n",
       "<table border=\"1\" class=\"dataframe\">\n",
       "  <thead>\n",
       "    <tr style=\"text-align: right;\">\n",
       "      <th></th>\n",
       "      <th>Duration</th>\n",
       "      <th>Start date</th>\n",
       "      <th>End date</th>\n",
       "      <th>Start station number</th>\n",
       "      <th>Start station</th>\n",
       "      <th>End station number</th>\n",
       "      <th>End station</th>\n",
       "      <th>Bike number</th>\n",
       "      <th>Member type</th>\n",
       "      <th>filename</th>\n",
       "      <th>Day</th>\n",
       "      <th>Month</th>\n",
       "    </tr>\n",
       "  </thead>\n",
       "  <tbody>\n",
       "    <tr>\n",
       "      <th>411701</th>\n",
       "      <td>25.15</td>\n",
       "      <td>2019-03-15 18:58:41</td>\n",
       "      <td>2019-03-15 19:23:51</td>\n",
       "      <td>31228</td>\n",
       "      <td>8th &amp; H St NW</td>\n",
       "      <td>31401</td>\n",
       "      <td>14th St &amp; Spring Rd NW</td>\n",
       "      <td>W00239</td>\n",
       "      <td>Member</td>\n",
       "      <td>./data\\201903-capitalbikeshare-tripdata.csv</td>\n",
       "      <td>Friday</td>\n",
       "      <td>March</td>\n",
       "    </tr>\n",
       "    <tr>\n",
       "      <th>3271959</th>\n",
       "      <td>11.58</td>\n",
       "      <td>2019-12-06 11:28:38</td>\n",
       "      <td>2019-12-06 11:40:13</td>\n",
       "      <td>31201</td>\n",
       "      <td>15th &amp; P St NW</td>\n",
       "      <td>31221</td>\n",
       "      <td>18th &amp; M St NW</td>\n",
       "      <td>W24102</td>\n",
       "      <td>Member</td>\n",
       "      <td>./data\\201912-capitalbikeshare-tripdata.csv</td>\n",
       "      <td>Friday</td>\n",
       "      <td>December</td>\n",
       "    </tr>\n",
       "    <tr>\n",
       "      <th>1397724</th>\n",
       "      <td>1.80</td>\n",
       "      <td>2019-06-13 20:23:32</td>\n",
       "      <td>2019-06-13 20:25:21</td>\n",
       "      <td>31209</td>\n",
       "      <td>1st &amp; N St  SE</td>\n",
       "      <td>31208</td>\n",
       "      <td>M St &amp; New Jersey Ave SE</td>\n",
       "      <td>W22120</td>\n",
       "      <td>Member</td>\n",
       "      <td>./data\\201906-capitalbikeshare-tripdata.csv</td>\n",
       "      <td>Thursday</td>\n",
       "      <td>June</td>\n",
       "    </tr>\n",
       "    <tr>\n",
       "      <th>618342</th>\n",
       "      <td>20.42</td>\n",
       "      <td>2019-04-06 13:56:30</td>\n",
       "      <td>2019-04-06 14:16:56</td>\n",
       "      <td>31229</td>\n",
       "      <td>New Hampshire Ave &amp; T St NW</td>\n",
       "      <td>31312</td>\n",
       "      <td>Wisconsin Ave &amp; O St NW</td>\n",
       "      <td>W22652</td>\n",
       "      <td>Member</td>\n",
       "      <td>./data\\201904-capitalbikeshare-tripdata.csv</td>\n",
       "      <td>Saturday</td>\n",
       "      <td>April</td>\n",
       "    </tr>\n",
       "    <tr>\n",
       "      <th>2953820</th>\n",
       "      <td>7.90</td>\n",
       "      <td>2019-10-26 07:22:34</td>\n",
       "      <td>2019-10-26 07:30:28</td>\n",
       "      <td>31269</td>\n",
       "      <td>3rd St &amp; Pennsylvania Ave SE</td>\n",
       "      <td>31623</td>\n",
       "      <td>Columbus Circle / Union Station</td>\n",
       "      <td>W23414</td>\n",
       "      <td>Member</td>\n",
       "      <td>./data\\201910-capitalbikeshare-tripdata.csv</td>\n",
       "      <td>Saturday</td>\n",
       "      <td>October</td>\n",
       "    </tr>\n",
       "  </tbody>\n",
       "</table>\n",
       "</div>"
      ],
      "text/plain": [
       "         Duration          Start date            End date  \\\n",
       "411701      25.15 2019-03-15 18:58:41 2019-03-15 19:23:51   \n",
       "3271959     11.58 2019-12-06 11:28:38 2019-12-06 11:40:13   \n",
       "1397724      1.80 2019-06-13 20:23:32 2019-06-13 20:25:21   \n",
       "618342      20.42 2019-04-06 13:56:30 2019-04-06 14:16:56   \n",
       "2953820      7.90 2019-10-26 07:22:34 2019-10-26 07:30:28   \n",
       "\n",
       "         Start station number                 Start station  \\\n",
       "411701                  31228                 8th & H St NW   \n",
       "3271959                 31201                15th & P St NW   \n",
       "1397724                 31209                1st & N St  SE   \n",
       "618342                  31229   New Hampshire Ave & T St NW   \n",
       "2953820                 31269  3rd St & Pennsylvania Ave SE   \n",
       "\n",
       "         End station number                      End station Bike number  \\\n",
       "411701                31401           14th St & Spring Rd NW      W00239   \n",
       "3271959               31221                   18th & M St NW      W24102   \n",
       "1397724               31208         M St & New Jersey Ave SE      W22120   \n",
       "618342                31312          Wisconsin Ave & O St NW      W22652   \n",
       "2953820               31623  Columbus Circle / Union Station      W23414   \n",
       "\n",
       "        Member type                                     filename       Day  \\\n",
       "411701       Member  ./data\\201903-capitalbikeshare-tripdata.csv    Friday   \n",
       "3271959      Member  ./data\\201912-capitalbikeshare-tripdata.csv    Friday   \n",
       "1397724      Member  ./data\\201906-capitalbikeshare-tripdata.csv  Thursday   \n",
       "618342       Member  ./data\\201904-capitalbikeshare-tripdata.csv  Saturday   \n",
       "2953820      Member  ./data\\201910-capitalbikeshare-tripdata.csv  Saturday   \n",
       "\n",
       "            Month  \n",
       "411701      March  \n",
       "3271959  December  \n",
       "1397724      June  \n",
       "618342      April  \n",
       "2953820   October  "
      ]
     },
     "execution_count": 8,
     "metadata": {},
     "output_type": "execute_result"
    }
   ],
   "source": [
    "# extracting Day, Week and Month from Start date\n",
    "cabital['Day'] = cabital['Start date'].dt.day_name()\n",
    "cabital['Month'] = cabital['Start date'].dt.month_name()\n",
    "\n",
    "cabital.sample(5)"
   ]
  },
  {
   "cell_type": "code",
   "execution_count": 9,
   "metadata": {},
   "outputs": [
    {
     "data": {
      "text/plain": [
       "Weekday    2502410\n",
       "Weekend     896007\n",
       "Name: Day type, dtype: int64"
      ]
     },
     "execution_count": 9,
     "metadata": {},
     "output_type": "execute_result"
    }
   ],
   "source": [
    "# extracting Day type from day\n",
    "weekdays = ['Monday', 'Tuesday', 'Wednesday', 'Thursday', 'Friday']\n",
    "weekend = ['Saturday', 'Sunday']\n",
    "\n",
    "weekdays_index = cabital.loc[cabital['Day'].isin(weekdays)].index\n",
    "weekend_index = cabital.loc[cabital['Day'].isin(weekend)].index\n",
    "\n",
    "cabital['Day type'] = ''\n",
    "cabital['Day type'][weekdays_index] = 'Weekday'\n",
    "cabital['Day type'][weekend_index] = 'Weekend'\n",
    "cabital['Day type'].value_counts()"
   ]
  },
  {
   "cell_type": "code",
   "execution_count": 10,
   "metadata": {},
   "outputs": [
    {
     "data": {
      "text/plain": [
       "Summer    1066833\n",
       "Spring     939507\n",
       "Fall       921289\n",
       "Winter     470788\n",
       "Name: Season, dtype: int64"
      ]
     },
     "execution_count": 10,
     "metadata": {},
     "output_type": "execute_result"
    }
   ],
   "source": [
    "# extracting Season fron Start date\n",
    "spring = ['March', 'April', 'May']\n",
    "summer = ['June', 'July', 'August']\n",
    "fall = ['September', 'October', 'November']\n",
    "winter = ['December', 'January', 'February']\n",
    "\n",
    "spring_index = cabital.loc[cabital['Month'].isin(spring)].index\n",
    "summer_index = cabital.loc[cabital['Month'].isin(summer)].index\n",
    "fall_index = cabital.loc[cabital['Month'].isin(fall)].index\n",
    "winter_index = cabital.loc[cabital['Month'].isin(winter)].index\n",
    "\n",
    "cabital['Season'] = ''\n",
    "cabital['Season'][spring_index] = 'Spring'\n",
    "cabital['Season'][summer_index] = 'Summer'\n",
    "cabital['Season'][fall_index] = 'Fall'\n",
    "cabital['Season'][winter_index] = 'Winter'\n",
    "cabital['Season'].value_counts()"
   ]
  },
  {
   "cell_type": "code",
   "execution_count": 11,
   "metadata": {
    "scrolled": false
   },
   "outputs": [
    {
     "data": {
      "text/html": [
       "<div>\n",
       "<style scoped>\n",
       "    .dataframe tbody tr th:only-of-type {\n",
       "        vertical-align: middle;\n",
       "    }\n",
       "\n",
       "    .dataframe tbody tr th {\n",
       "        vertical-align: top;\n",
       "    }\n",
       "\n",
       "    .dataframe thead th {\n",
       "        text-align: right;\n",
       "    }\n",
       "</style>\n",
       "<table border=\"1\" class=\"dataframe\">\n",
       "  <thead>\n",
       "    <tr style=\"text-align: right;\">\n",
       "      <th></th>\n",
       "      <th>Duration</th>\n",
       "      <th>Start date</th>\n",
       "      <th>End date</th>\n",
       "      <th>Start station number</th>\n",
       "      <th>Start station</th>\n",
       "      <th>End station number</th>\n",
       "      <th>End station</th>\n",
       "      <th>Bike number</th>\n",
       "      <th>Member type</th>\n",
       "      <th>filename</th>\n",
       "      <th>Day</th>\n",
       "      <th>Month</th>\n",
       "      <th>Day type</th>\n",
       "      <th>Season</th>\n",
       "    </tr>\n",
       "  </thead>\n",
       "  <tbody>\n",
       "    <tr>\n",
       "      <th>351334</th>\n",
       "      <td>9.27</td>\n",
       "      <td>2019-03-09 09:33:58</td>\n",
       "      <td>2019-03-09 09:43:15</td>\n",
       "      <td>31201</td>\n",
       "      <td>15th &amp; P St NW</td>\n",
       "      <td>31503</td>\n",
       "      <td>Florida Ave &amp; R St NW</td>\n",
       "      <td>W22279</td>\n",
       "      <td>Member</td>\n",
       "      <td>./data\\201903-capitalbikeshare-tripdata.csv</td>\n",
       "      <td>Saturday</td>\n",
       "      <td>March</td>\n",
       "      <td>Weekend</td>\n",
       "      <td>Spring</td>\n",
       "    </tr>\n",
       "    <tr>\n",
       "      <th>2535933</th>\n",
       "      <td>12.43</td>\n",
       "      <td>2019-09-19 16:39:50</td>\n",
       "      <td>2019-09-19 16:52:16</td>\n",
       "      <td>31515</td>\n",
       "      <td>Fort Totten Metro</td>\n",
       "      <td>31405</td>\n",
       "      <td>Georgia Ave &amp; Emerson St NW</td>\n",
       "      <td>W20709</td>\n",
       "      <td>Member</td>\n",
       "      <td>./data\\201909-capitalbikeshare-tripdata.csv</td>\n",
       "      <td>Thursday</td>\n",
       "      <td>September</td>\n",
       "      <td>Weekday</td>\n",
       "      <td>Fall</td>\n",
       "    </tr>\n",
       "    <tr>\n",
       "      <th>1702669</th>\n",
       "      <td>25.75</td>\n",
       "      <td>2019-07-10 11:47:16</td>\n",
       "      <td>2019-07-10 12:13:01</td>\n",
       "      <td>31288</td>\n",
       "      <td>4th St &amp; Madison Dr NW</td>\n",
       "      <td>31289</td>\n",
       "      <td>Henry Bacon Dr &amp; Lincoln Memorial Circle NW</td>\n",
       "      <td>W22027</td>\n",
       "      <td>Casual</td>\n",
       "      <td>./data\\201907-capitalbikeshare-tripdata.csv</td>\n",
       "      <td>Wednesday</td>\n",
       "      <td>July</td>\n",
       "      <td>Weekday</td>\n",
       "      <td>Summer</td>\n",
       "    </tr>\n",
       "    <tr>\n",
       "      <th>2152416</th>\n",
       "      <td>21.55</td>\n",
       "      <td>2019-08-17 13:04:51</td>\n",
       "      <td>2019-08-17 13:26:25</td>\n",
       "      <td>31523</td>\n",
       "      <td>Lincoln Rd &amp; Seaton Pl NE/Harry Thomas Rec Center</td>\n",
       "      <td>31230</td>\n",
       "      <td>Metro Center / 12th &amp; G St NW</td>\n",
       "      <td>W22778</td>\n",
       "      <td>Member</td>\n",
       "      <td>./data\\201908-capitalbikeshare-tripdata.csv</td>\n",
       "      <td>Saturday</td>\n",
       "      <td>August</td>\n",
       "      <td>Weekend</td>\n",
       "      <td>Summer</td>\n",
       "    </tr>\n",
       "    <tr>\n",
       "      <th>2959930</th>\n",
       "      <td>20.92</td>\n",
       "      <td>2019-10-26 15:53:19</td>\n",
       "      <td>2019-10-26 16:14:15</td>\n",
       "      <td>31029</td>\n",
       "      <td>N Veitch St &amp; 20th St N</td>\n",
       "      <td>31226</td>\n",
       "      <td>34th St &amp; Wisconsin Ave NW</td>\n",
       "      <td>W22631</td>\n",
       "      <td>Member</td>\n",
       "      <td>./data\\201910-capitalbikeshare-tripdata.csv</td>\n",
       "      <td>Saturday</td>\n",
       "      <td>October</td>\n",
       "      <td>Weekend</td>\n",
       "      <td>Fall</td>\n",
       "    </tr>\n",
       "  </tbody>\n",
       "</table>\n",
       "</div>"
      ],
      "text/plain": [
       "         Duration          Start date            End date  \\\n",
       "351334       9.27 2019-03-09 09:33:58 2019-03-09 09:43:15   \n",
       "2535933     12.43 2019-09-19 16:39:50 2019-09-19 16:52:16   \n",
       "1702669     25.75 2019-07-10 11:47:16 2019-07-10 12:13:01   \n",
       "2152416     21.55 2019-08-17 13:04:51 2019-08-17 13:26:25   \n",
       "2959930     20.92 2019-10-26 15:53:19 2019-10-26 16:14:15   \n",
       "\n",
       "         Start station number  \\\n",
       "351334                  31201   \n",
       "2535933                 31515   \n",
       "1702669                 31288   \n",
       "2152416                 31523   \n",
       "2959930                 31029   \n",
       "\n",
       "                                             Start station  \\\n",
       "351334                                      15th & P St NW   \n",
       "2535933                                  Fort Totten Metro   \n",
       "1702669                             4th St & Madison Dr NW   \n",
       "2152416  Lincoln Rd & Seaton Pl NE/Harry Thomas Rec Center   \n",
       "2959930                            N Veitch St & 20th St N   \n",
       "\n",
       "         End station number                                  End station  \\\n",
       "351334                31503                        Florida Ave & R St NW   \n",
       "2535933               31405                  Georgia Ave & Emerson St NW   \n",
       "1702669               31289  Henry Bacon Dr & Lincoln Memorial Circle NW   \n",
       "2152416               31230                Metro Center / 12th & G St NW   \n",
       "2959930               31226                   34th St & Wisconsin Ave NW   \n",
       "\n",
       "        Bike number Member type                                     filename  \\\n",
       "351334       W22279      Member  ./data\\201903-capitalbikeshare-tripdata.csv   \n",
       "2535933      W20709      Member  ./data\\201909-capitalbikeshare-tripdata.csv   \n",
       "1702669      W22027      Casual  ./data\\201907-capitalbikeshare-tripdata.csv   \n",
       "2152416      W22778      Member  ./data\\201908-capitalbikeshare-tripdata.csv   \n",
       "2959930      W22631      Member  ./data\\201910-capitalbikeshare-tripdata.csv   \n",
       "\n",
       "               Day      Month Day type  Season  \n",
       "351334    Saturday      March  Weekend  Spring  \n",
       "2535933   Thursday  September  Weekday    Fall  \n",
       "1702669  Wednesday       July  Weekday  Summer  \n",
       "2152416   Saturday     August  Weekend  Summer  \n",
       "2959930   Saturday    October  Weekend    Fall  "
      ]
     },
     "execution_count": 11,
     "metadata": {},
     "output_type": "execute_result"
    }
   ],
   "source": [
    "cabital.sample(5)"
   ]
  },
  {
   "cell_type": "code",
   "execution_count": 12,
   "metadata": {},
   "outputs": [],
   "source": [
    "# setting the base color for plots\n",
    "base_color = sb.color_palette()[0]"
   ]
  },
  {
   "cell_type": "code",
   "execution_count": 13,
   "metadata": {
    "scrolled": false
   },
   "outputs": [
    {
     "data": {
      "image/png": "[encoded data removed]",
      "text/plain": [
       "<Figure size 576x360 with 1 Axes>"
      ]
     },
     "metadata": {
      "needs_background": "light"
     },
     "output_type": "display_data"
    }
   ],
   "source": [
    "# distribution of trip durations\n",
    "log_binsize = 0.05\n",
    "bins = 10 ** np.arange(0, np.log10(cabital['Duration'].max())+log_binsize, log_binsize)\n",
    "x_ticks = [1,2,4,8,16,32,64,128,256]\n",
    "plt.figure(figsize=[8, 5])\n",
    "plt.hist(data = cabital,x='Duration' ,bins = bins)\n",
    "plt.xlim([1,300])\n",
    "plt.xscale('log')\n",
    "plt.xticks(x_ticks,x_ticks)\n",
    "plt.yticks([0,25000,50000,75000,100000,125000,150000,175000,200000],\n",
    "          ['0','25K','50K','75K','100K','125K','150K','175K','200K'])\n",
    "plt.title('Distribution Of Trip Durations')\n",
    "plt.xlabel('Duration (min)')\n",
    "plt.ylabel('Number Of Ttips');"
   ]
  },
  {
   "cell_type": "markdown",
   "metadata": {},
   "source": [
    "- Most of the **duration** of the trips is **between 4 and 32 minutes**."
   ]
  },
  {
   "cell_type": "code",
   "execution_count": 14,
   "metadata": {},
   "outputs": [
    {
     "data": {
      "image/png": "[encoded data removed]",
      "text/plain": [
       "<Figure size 576x360 with 1 Axes>"
      ]
     },
     "metadata": {
      "needs_background": "light"
     },
     "output_type": "display_data"
    }
   ],
   "source": [
    "# the most common starting stations\n",
    "start_5 = cabital['Start station'].value_counts()[:5]\n",
    "plt.figure(figsize=[8, 5])\n",
    "sb.countplot(data=cabital,y='Start station', order = start_5.index, color=base_color)\n",
    "plt.title('The Most Common Starting Stations')\n",
    "plt.xlabel('Number Of Trips')\n",
    "plt.xticks([0,10000,20000,30000,40000,50000,60000],\n",
    "          ['0','10K','20K','30K','40K','50K','60K']);"
   ]
  },
  {
   "cell_type": "markdown",
   "metadata": {},
   "source": [
    "- The most common starting station is **Columbus Circle / Union Station**."
   ]
  },
  {
   "cell_type": "code",
   "execution_count": 15,
   "metadata": {},
   "outputs": [
    {
     "data": {
      "image/png": "[encoded data removed]",
      "text/plain": [
       "<Figure size 576x360 with 1 Axes>"
      ]
     },
     "metadata": {
      "needs_background": "light"
     },
     "output_type": "display_data"
    }
   ],
   "source": [
    "# the most common endting stations\n",
    "end_10 = cabital['End station'].value_counts()[:5]\n",
    "plt.figure(figsize=[8, 5])\n",
    "sb.countplot(data=cabital, y='End station', order = end_10.index, color=base_color)\n",
    "plt.title('The Most Common Ending Stations')\n",
    "plt.xlabel('Number Of Trips')\n",
    "plt.xticks([0,10000,20000,30000,40000,50000,60000],\n",
    "          ['0','10K','20K','30K','40K','50K','60K']);"
   ]
  },
  {
   "cell_type": "markdown",
   "metadata": {},
   "source": [
    "- The most common ending station is **Columbus Circle / Union Station**."
   ]
  },
  {
   "cell_type": "code",
   "execution_count": 16,
   "metadata": {
    "scrolled": false
   },
   "outputs": [
    {
     "data": {
      "image/png": "[encoded data removed]",
      "text/plain": [
       "<Figure size 432x432 with 1 Axes>"
      ]
     },
     "metadata": {},
     "output_type": "display_data"
    }
   ],
   "source": [
    "# the proportion of member types\n",
    "Member = cabital['Member type'].value_counts()\n",
    "explode = [0.2, 0]\n",
    "plt.figure(figsize=[6, 6])\n",
    "plt.pie(Member, labels=Member.index,startangle=90,explode = explode,\n",
    "        shadow = True, autopct='%1.1f%%');\n",
    "plt.title('The Proportion Of Member Types');"
   ]
  },
  {
   "cell_type": "markdown",
   "metadata": {},
   "source": [
    "- The percentage of the trips made by **registered members = 87%**\n",
    "- The percentage of the trips made by **Casual Members = 13%**"
   ]
  },
  {
   "cell_type": "code",
   "execution_count": 17,
   "metadata": {},
   "outputs": [
    {
     "data": {
      "image/png": "[encoded data removed]",
      "text/plain": [
       "<Figure size 576x360 with 1 Axes>"
      ]
     },
     "metadata": {
      "needs_background": "light"
     },
     "output_type": "display_data"
    }
   ],
   "source": [
    "# count of trips per month\n",
    "plt.figure(figsize=[8, 5])\n",
    "sb.countplot(data=cabital, x='Month', color=base_color)\n",
    "plt.ylabel('Number Of Trips')\n",
    "plt.title('Count Of Trips Per Month')\n",
    "plt.xticks(rotation=30)\n",
    "plt.yticks([50000,100000,150000,200000,250000,300000,350000],\n",
    "          ['50K','100K','150K','200K','250K','300K','350K']);"
   ]
  },
  {
   "cell_type": "markdown",
   "metadata": {},
   "source": [
    "- The number of trips **increases between the months of April to October**, while it **decreases between the months of December to February**. \n",
    "\n",
    "> It seems the number of trips decrease in the winter months so let's investigate the count of trips per season."
   ]
  },
  {
   "cell_type": "code",
   "execution_count": 18,
   "metadata": {
    "scrolled": false
   },
   "outputs": [
    {
     "data": {
      "image/png": "[encoded data removed]",
      "text/plain": [
       "<Figure size 576x360 with 1 Axes>"
      ]
     },
     "metadata": {
      "needs_background": "light"
     },
     "output_type": "display_data"
    }
   ],
   "source": [
    "# count of trips per season\n",
    "seasons = ['Spring','Summer','Fall','Winter']\n",
    "plt.figure(figsize=[8, 5])\n",
    "sb.countplot(data=cabital, x='Season', color=base_color, order=seasons)\n",
    "plt.ylabel('Number Of Trips')\n",
    "plt.title('Count Of Trips Per Season')\n",
    "plt.yticks([0,200000,400000,600000,800000,1000000],\n",
    "          ['0','200K','400K','600K','800K','1M']);"
   ]
  },
  {
   "cell_type": "markdown",
   "metadata": {},
   "source": [
    "- The number of trips **increases in the Summer** months, while it **decreases in the Winter** months.\n",
    "> Let's investigate the average daily trips per month"
   ]
  },
  {
   "cell_type": "code",
   "execution_count": 19,
   "metadata": {
    "scrolled": true
   },
   "outputs": [
    {
     "data": {
      "text/html": [
       "<div>\n",
       "<style scoped>\n",
       "    .dataframe tbody tr th:only-of-type {\n",
       "        vertical-align: middle;\n",
       "    }\n",
       "\n",
       "    .dataframe tbody tr th {\n",
       "        vertical-align: top;\n",
       "    }\n",
       "\n",
       "    .dataframe thead th {\n",
       "        text-align: right;\n",
       "    }\n",
       "</style>\n",
       "<table border=\"1\" class=\"dataframe\">\n",
       "  <thead>\n",
       "    <tr style=\"text-align: right;\">\n",
       "      <th></th>\n",
       "      <th>Season</th>\n",
       "      <th>Daily trips</th>\n",
       "    </tr>\n",
       "  </thead>\n",
       "  <tbody>\n",
       "    <tr>\n",
       "      <th>0</th>\n",
       "      <td>Fall</td>\n",
       "      <td>10124.054945</td>\n",
       "    </tr>\n",
       "    <tr>\n",
       "      <th>1</th>\n",
       "      <td>Spring</td>\n",
       "      <td>10324.252747</td>\n",
       "    </tr>\n",
       "    <tr>\n",
       "      <th>2</th>\n",
       "      <td>Summer</td>\n",
       "      <td>11723.439560</td>\n",
       "    </tr>\n",
       "    <tr>\n",
       "      <th>3</th>\n",
       "      <td>Winter</td>\n",
       "      <td>5173.494505</td>\n",
       "    </tr>\n",
       "  </tbody>\n",
       "</table>\n",
       "</div>"
      ],
      "text/plain": [
       "   Season   Daily trips\n",
       "0    Fall  10124.054945\n",
       "1  Spring  10324.252747\n",
       "2  Summer  11723.439560\n",
       "3  Winter   5173.494505"
      ]
     },
     "execution_count": 19,
     "metadata": {},
     "output_type": "execute_result"
    }
   ],
   "source": [
    "# calculating the average daily trips per season\n",
    "season_counts = cabital.groupby(['Season']).count()['Duration']\n",
    "season_daily = pd.DataFrame(season_counts / 91).reset_index()\n",
    "season_daily.rename(columns = {'Duration':'Daily trips'}, inplace = True)\n",
    "season_daily"
   ]
  },
  {
   "cell_type": "code",
   "execution_count": 20,
   "metadata": {
    "scrolled": true
   },
   "outputs": [
    {
     "data": {
      "image/png": "[encoded data removed]",
      "text/plain": [
       "<Figure size 576x360 with 1 Axes>"
      ]
     },
     "metadata": {
      "needs_background": "light"
     },
     "output_type": "display_data"
    }
   ],
   "source": [
    "# the average daily trips per season\n",
    "plt.figure(figsize=[8, 5])\n",
    "sb.barplot(data=season_daily, x='Season', y='Daily trips', order=seasons, color=base_color)\n",
    "plt.title('The Average Daily Number Of Trips Per Season')\n",
    "plt.xlabel('Season')\n",
    "plt.ylabel('Average Daily Trips')\n",
    "plt.xticks(rotation = 0)\n",
    "plt.yticks([0,2000,4000,6000,8000,10000,12000],\n",
    "          ['0','2K','4K','6K','8K','10K','12K']);"
   ]
  },
  {
   "cell_type": "markdown",
   "metadata": {},
   "source": [
    "- The Average Daily trips **in the Summer is about 11.5K**, while **in the Winter ia about 5K**.\n",
    "> Let's investigate the count of trips per days of the week"
   ]
  },
  {
   "cell_type": "code",
   "execution_count": 21,
   "metadata": {},
   "outputs": [
    {
     "data": {
      "image/png": "[encoded data removed]",
      "text/plain": [
       "<Figure size 576x360 with 1 Axes>"
      ]
     },
     "metadata": {
      "needs_background": "light"
     },
     "output_type": "display_data"
    }
   ],
   "source": [
    "# count of trips per days of the week\n",
    "days = ['Monday','Tuesday','Wednesday','Thursday',\n",
    "        'Friday','Saturday','Sunday']\n",
    "plt.figure(figsize=[8, 5])\n",
    "sb.countplot(data=cabital, x='Day', color=base_color, order=days)\n",
    "plt.title('Count Of Trips Per Each Day Of The Week')\n",
    "plt.ylabel('Number Of Trips')\n",
    "plt.yticks([0,100000,200000,300000,400000,500000],\n",
    "          ['0','100K','200K','300K','400K','500K']);"
   ]
  },
  {
   "cell_type": "markdown",
   "metadata": {},
   "source": [
    "- The number of trips **decreases on Sundays**.\n",
    "> Let's investigate the average daily trips on each day of the week"
   ]
  },
  {
   "cell_type": "code",
   "execution_count": 22,
   "metadata": {},
   "outputs": [
    {
     "data": {
      "text/html": [
       "<div>\n",
       "<style scoped>\n",
       "    .dataframe tbody tr th:only-of-type {\n",
       "        vertical-align: middle;\n",
       "    }\n",
       "\n",
       "    .dataframe tbody tr th {\n",
       "        vertical-align: top;\n",
       "    }\n",
       "\n",
       "    .dataframe thead th {\n",
       "        text-align: right;\n",
       "    }\n",
       "</style>\n",
       "<table border=\"1\" class=\"dataframe\">\n",
       "  <thead>\n",
       "    <tr style=\"text-align: right;\">\n",
       "      <th></th>\n",
       "      <th>Day</th>\n",
       "      <th>Trips_count</th>\n",
       "      <th>Average_trips</th>\n",
       "    </tr>\n",
       "  </thead>\n",
       "  <tbody>\n",
       "    <tr>\n",
       "      <th>0</th>\n",
       "      <td>Wednesday</td>\n",
       "      <td>513457</td>\n",
       "      <td>9874</td>\n",
       "    </tr>\n",
       "    <tr>\n",
       "      <th>1</th>\n",
       "      <td>Friday</td>\n",
       "      <td>510515</td>\n",
       "      <td>9817</td>\n",
       "    </tr>\n",
       "    <tr>\n",
       "      <th>2</th>\n",
       "      <td>Tuesday</td>\n",
       "      <td>510178</td>\n",
       "      <td>9811</td>\n",
       "    </tr>\n",
       "    <tr>\n",
       "      <th>3</th>\n",
       "      <td>Thursday</td>\n",
       "      <td>503090</td>\n",
       "      <td>9674</td>\n",
       "    </tr>\n",
       "    <tr>\n",
       "      <th>4</th>\n",
       "      <td>Saturday</td>\n",
       "      <td>496048</td>\n",
       "      <td>9539</td>\n",
       "    </tr>\n",
       "    <tr>\n",
       "      <th>5</th>\n",
       "      <td>Monday</td>\n",
       "      <td>465170</td>\n",
       "      <td>8945</td>\n",
       "    </tr>\n",
       "    <tr>\n",
       "      <th>6</th>\n",
       "      <td>Sunday</td>\n",
       "      <td>399959</td>\n",
       "      <td>7691</td>\n",
       "    </tr>\n",
       "  </tbody>\n",
       "</table>\n",
       "</div>"
      ],
      "text/plain": [
       "         Day  Trips_count  Average_trips\n",
       "0  Wednesday       513457           9874\n",
       "1     Friday       510515           9817\n",
       "2    Tuesday       510178           9811\n",
       "3   Thursday       503090           9674\n",
       "4   Saturday       496048           9539\n",
       "5     Monday       465170           8945\n",
       "6     Sunday       399959           7691"
      ]
     },
     "execution_count": 22,
     "metadata": {},
     "output_type": "execute_result"
    }
   ],
   "source": [
    "# calculating the average daily trips on each day of the week\n",
    "start_date =  cabital['Start date'].min().date()\n",
    "end_date =  cabital['Start date'].max().date()\n",
    "\n",
    "av_daily_trips = pd.DataFrame(cabital.Day.value_counts().rename_axis('Day').reset_index(name='Trips_count'))\n",
    "av_daily_trips['Average_trips'] = (av_daily_trips.Trips_count / np.busday_count(start_date,end_date,'1000000')).astype(int)\n",
    "av_daily_trips"
   ]
  },
  {
   "cell_type": "code",
   "execution_count": 23,
   "metadata": {
    "scrolled": true
   },
   "outputs": [
    {
     "data": {
      "image/png": "[encoded data removed]",
      "text/plain": [
       "<Figure size 576x360 with 1 Axes>"
      ]
     },
     "metadata": {
      "needs_background": "light"
     },
     "output_type": "display_data"
    }
   ],
   "source": [
    "# the average daily trips on each day of the week\n",
    "plt.figure(figsize=[8, 5])\n",
    "sb.barplot(data=av_daily_trips, x='Day', y='Average_trips', order=days, color=base_color)\n",
    "plt.title('The Average Daily Trips On Each Day Of The Week')\n",
    "plt.xlabel('Day')\n",
    "plt.ylabel('Average Daily Trips')\n",
    "plt.xticks(rotation = 0)\n",
    "plt.yticks([0,2000,4000,6000,8000,10000],\n",
    "          ['0','2K','4K','6K','8K','10K']);"
   ]
  },
  {
   "cell_type": "markdown",
   "metadata": {},
   "source": [
    "- **Sunday has the lowest** average daily trips with lower than 8K trips.\n",
    "> Let's investigate the average daily trips on weekdays and weekends"
   ]
  },
  {
   "cell_type": "code",
   "execution_count": 24,
   "metadata": {},
   "outputs": [],
   "source": [
    "# calculating the number of weekdays and weekends in the whole period of time\n",
    "no_of_weekdays = np.busday_count(start_date,end_date,'1111100')\n",
    "no_of_weekends = np.busday_count(start_date,end_date,'0000011')"
   ]
  },
  {
   "cell_type": "code",
   "execution_count": 25,
   "metadata": {
    "scrolled": true
   },
   "outputs": [],
   "source": [
    "# calculating the average number of trips on both day types\n",
    "week_counts = cabital.groupby(['Day type']).count()['Duration']\n",
    "week_proportion = pd.DataFrame(week_counts / [no_of_weekdays ,no_of_weekends]).reset_index()\n",
    "week_proportion.rename(columns = {'Duration':'Daily trips'}, inplace = True)"
   ]
  },
  {
   "cell_type": "code",
   "execution_count": 26,
   "metadata": {
    "scrolled": false
   },
   "outputs": [
    {
     "data": {
      "image/png": "[encoded data removed]",
      "text/plain": [
       "<Figure size 576x360 with 1 Axes>"
      ]
     },
     "metadata": {
      "needs_background": "light"
     },
     "output_type": "display_data"
    }
   ],
   "source": [
    "# the average daily trips on both day types\n",
    "plt.figure(figsize=[8, 5])\n",
    "sb.barplot(data=week_proportion, x='Day type', y='Daily trips', color=base_color)\n",
    "plt.title('The Average Daily Number Of Trips On Both Day Types')\n",
    "plt.xlabel('Day Type')\n",
    "plt.ylabel('Average Daily Trips')\n",
    "plt.xticks(rotation = 0)\n",
    "plt.yticks([0,2000,4000,6000,8000,10000,12000],\n",
    "          ['0','2K','4K','6K','8K','10K','12K']);"
   ]
  },
  {
   "cell_type": "markdown",
   "metadata": {},
   "source": [
    "- The average **daily trips on weekends are lower than daily trips on weekdays**."
   ]
  },
  {
   "cell_type": "markdown",
   "metadata": {},
   "source": [
    "### Discuss the distribution(s) of your variable(s) of interest. Were there any unusual points? Did you need to perform any transformations?\n",
    "\n",
    ">- Most of the duration of the trips is between 4 and 32 minutes.\n",
    ">- The most common starting and ending station is Columbus Circle / Union Station.\n",
    ">- The percentage of the trips made by registered members = 87%, while Casual Members = 13%\n",
    ">- The average daily trips increases in the Summer months, while it decreases in the Winter months. \n",
    ">- The average daily trips decrease on the weekend days, especially on Sundays.\n",
    "\n",
    "\n",
    "### Of the features you investigated, were there any unusual distributions? Did you perform any operations on the data to tidy, adjust, or change the form of the data? If so, why did you do this?\n",
    "\n",
    ">- Converting `Duration` unit from seconds to miunits.\n",
    ">- Converting `Start date` and `End date` data type into datetime.\n",
    ">- Extracting `Day` and `Month` from `Start dete`.\n",
    ">- Extracting `Day type` (weekday / weekend) from `Day`.\n",
    ">- Extracting `Season` from `Month`."
   ]
  },
  {
   "cell_type": "markdown",
   "metadata": {},
   "source": [
    "## Bivariate Exploration\n",
    "\n",
    "> In this section, investigate relationships between pairs of variables in your\n",
    "data. Make sure the variables that you cover here have been introduced in some\n",
    "fashion in the previous section (univariate exploration)."
   ]
  },
  {
   "cell_type": "code",
   "execution_count": 27,
   "metadata": {},
   "outputs": [
    {
     "data": {
      "image/png": "[encoded data removed]",
      "text/plain": [
       "<Figure size 576x360 with 1 Axes>"
      ]
     },
     "metadata": {
      "needs_background": "light"
     },
     "output_type": "display_data"
    }
   ],
   "source": [
    "# bivariate plot of duration vs. season\n",
    "plt.figure(figsize=[8, 5]) \n",
    "box_plot = sb.boxplot(data=cabital, x='Season', y='Duration', color=base_color, order=seasons)\n",
    "y_ticks = [1,2,4,8,16,32,64]\n",
    "plt.ylim([1,64])\n",
    "plt.yscale('log')\n",
    "plt.yticks(y_ticks,y_ticks)\n",
    "plt.title('Duration VS. Season');"
   ]
  },
  {
   "cell_type": "markdown",
   "metadata": {},
   "source": [
    "- The average **trip durations are shorter in winter**.\n",
    "> Let's investigate the trip duration vs. days of the week"
   ]
  },
  {
   "cell_type": "code",
   "execution_count": 28,
   "metadata": {},
   "outputs": [
    {
     "data": {
      "image/png": "[encoded data removed]",
      "text/plain": [
       "<Figure size 576x360 with 1 Axes>"
      ]
     },
     "metadata": {
      "needs_background": "light"
     },
     "output_type": "display_data"
    }
   ],
   "source": [
    "# bivariate plot of duration vs. day\n",
    "plt.figure(figsize=[8, 5])\n",
    "box_plot = sb.boxplot(data=cabital, x='Day', y='Duration',order=days, color=base_color)\n",
    "y_ticks = [1,2,4,8,16,32,64]\n",
    "plt.ylim([1,64])\n",
    "plt.yscale('log')\n",
    "plt.yticks(y_ticks,y_ticks)\n",
    "plt.title('Duration VS. Day');"
   ]
  },
  {
   "cell_type": "markdown",
   "metadata": {},
   "source": [
    "- The average **trip durations are longer on Saturday and Sunday**.\n",
    "> Let's investigate the trip duration vs. day type"
   ]
  },
  {
   "cell_type": "code",
   "execution_count": 29,
   "metadata": {},
   "outputs": [
    {
     "data": {
      "image/png": "[encoded data removed]",
      "text/plain": [
       "<Figure size 576x360 with 1 Axes>"
      ]
     },
     "metadata": {
      "needs_background": "light"
     },
     "output_type": "display_data"
    }
   ],
   "source": [
    "# bivariate plot of duration vs. day type\n",
    "plt.figure(figsize=[8, 5])\n",
    "box_plot = sb.boxplot(data=cabital, x='Day type', y='Duration', color=base_color)\n",
    "y_ticks = [1,2,4,8,16,32,64]\n",
    "plt.ylim([1,64])\n",
    "plt.yscale('log')\n",
    "plt.yticks(y_ticks,y_ticks)\n",
    "plt.title('Duration VS. Day Type');"
   ]
  },
  {
   "cell_type": "markdown",
   "metadata": {},
   "source": [
    "- The average **trip durations are longer on weekends than weekdays**.\n",
    "> Let's investigate the trip duration vs. member type"
   ]
  },
  {
   "cell_type": "code",
   "execution_count": 30,
   "metadata": {},
   "outputs": [
    {
     "data": {
      "image/png": "[encoded data removed]",
      "text/plain": [
       "<Figure size 576x360 with 1 Axes>"
      ]
     },
     "metadata": {
      "needs_background": "light"
     },
     "output_type": "display_data"
    }
   ],
   "source": [
    "# bivariate plot of duration vs. member type\n",
    "plt.figure(figsize=[8, 5])\n",
    "box_plot = sb.boxplot(data=cabital, x='Member type', y='Duration', color=base_color)\n",
    "y_ticks = [1,2,4,8,16,32,64]\n",
    "plt.ylim([1,100])\n",
    "plt.yscale('log')\n",
    "plt.yticks(y_ticks,y_ticks)\n",
    "plt.title('Duration VS. Member Type');"
   ]
  },
  {
   "cell_type": "markdown",
   "metadata": {},
   "source": [
    "- The average **trip durations are longer for casual members**.\n",
    "> Let's investigate the season vs. member type"
   ]
  },
  {
   "cell_type": "code",
   "execution_count": 31,
   "metadata": {
    "scrolled": false
   },
   "outputs": [
    {
     "data": {
      "image/png": "[encoded data removed]",
      "text/plain": [
       "<Figure size 576x360 with 1 Axes>"
      ]
     },
     "metadata": {
      "needs_background": "light"
     },
     "output_type": "display_data"
    }
   ],
   "source": [
    "# bivariate plot of season vs. member type\n",
    "plt.figure(figsize=[8, 5])\n",
    "sb.countplot(data=cabital, x='Season', hue='Member type', order=seasons)\n",
    "plt.title('Season VS. Member type')\n",
    "plt.ylabel('Number Of Trips')\n",
    "plt.yticks([0,100000,200000,300000,400000,500000,600000,700000,800000,900000],\n",
    "          ['0','100K','200K','300K','400K','500K','600K','700K','800K','900K']);"
   ]
  },
  {
   "cell_type": "markdown",
   "metadata": {},
   "source": [
    "- **Summer has the largest number of trips for both member types**.\n",
    "> Let's investigate the day type vs. member type"
   ]
  },
  {
   "cell_type": "code",
   "execution_count": 32,
   "metadata": {},
   "outputs": [
    {
     "data": {
      "image/png": "[encoded data removed]",
      "text/plain": [
       "<Figure size 576x360 with 1 Axes>"
      ]
     },
     "metadata": {
      "needs_background": "light"
     },
     "output_type": "display_data"
    }
   ],
   "source": [
    "# bivariate plot of day type vs. member type\n",
    "plt.figure(figsize=[8, 5])\n",
    "sb.countplot(data=cabital, x='Day type', hue='Member type')\n",
    "plt.ylabel('Number Of Trips')\n",
    "plt.title('Day Type VS. Member Type')\n",
    "plt.yticks([0,0.5e6,1e6,1.5e6,2e6,2.5e6],\n",
    "          ['0.0','0.5M','1.0M','1.5M','2.0M','2.5M']);"
   ]
  },
  {
   "cell_type": "markdown",
   "metadata": {},
   "source": [
    "- **Weekdays have a larger number of trips than weekends for both member types**."
   ]
  },
  {
   "cell_type": "markdown",
   "metadata": {},
   "source": [
    "### Talk about some of the relationships you observed in this part of the investigation. How did the feature(s) of interest vary with other features in the dataset?\n",
    "\n",
    ">- The average trip durations are shorter in winter.\n",
    ">- The average trip durations are longer on weekends than weekdays.\n",
    ">- The average trip durations are longer for casual members than members.\n",
    "\n",
    "\n",
    "### Did you observe any interesting relationships between the other features (not the main feature(s) of interest)?\n",
    "\n",
    ">- Summer has the largest number of trips for both member types.\n",
    ">- Weekdays have a larger number of trips than weekends for both member types."
   ]
  },
  {
   "cell_type": "markdown",
   "metadata": {},
   "source": [
    "## Multivariate Exploration\n",
    "\n",
    "> Create plots of three or more variables to investigate your data even\n",
    "further. Make sure that your investigations are justified, and follow from\n",
    "your work in the previous sections."
   ]
  },
  {
   "cell_type": "code",
   "execution_count": 33,
   "metadata": {},
   "outputs": [
    {
     "data": {
      "image/png": "[encoded data removed]",
      "text/plain": [
       "<Figure size 576x360 with 1 Axes>"
      ]
     },
     "metadata": {
      "needs_background": "light"
     },
     "output_type": "display_data"
    }
   ],
   "source": [
    "# multivariate plot of duration vs season vs member type\n",
    "plt.figure(figsize=[8, 5])\n",
    "sb.barplot(data=cabital, x='Season', y='Duration', hue='Member type', ci=None)\n",
    "plt.title('Duration VS. Season VS. Member Type')\n",
    "plt.ylabel('Mean Duration (min)')\n",
    "plt.legend(bbox_to_anchor = (1,0.5),title='Member type');"
   ]
  },
  {
   "cell_type": "markdown",
   "metadata": {},
   "source": [
    "- The mean duration of trips for **Spring and Summer is longer than Fall and Winter for each of the member types**.\n",
    "> Let's investigate duration vs season vs day type"
   ]
  },
  {
   "cell_type": "code",
   "execution_count": 34,
   "metadata": {},
   "outputs": [],
   "source": [
    "# define day_type_color\n",
    "day_type_color = [sb.color_palette()[2],sb.color_palette()[3]]"
   ]
  },
  {
   "cell_type": "code",
   "execution_count": 35,
   "metadata": {},
   "outputs": [
    {
     "data": {
      "image/png": "[encoded data removed]",
      "text/plain": [
       "<Figure size 576x360 with 1 Axes>"
      ]
     },
     "metadata": {
      "needs_background": "light"
     },
     "output_type": "display_data"
    }
   ],
   "source": [
    "# multivariate plot of duration vs season vs day type\n",
    "plt.figure(figsize=[8, 5])\n",
    "sb.barplot(data=cabital, x='Season', y='Duration', hue='Day type', ci=None, palette=day_type_color)\n",
    "plt.title('Duration VS. Season VS. Day Type')\n",
    "plt.ylabel('Mean Duration (min)')\n",
    "plt.legend(bbox_to_anchor = (1,0.5),title='Day type');"
   ]
  },
  {
   "cell_type": "markdown",
   "metadata": {},
   "source": [
    "- The mean duration of trips for **Spring and Summer is longer than Fall and Winter for each of the day types**.\n",
    "> Let's investigate duration vs member type vs day type"
   ]
  },
  {
   "cell_type": "code",
   "execution_count": 36,
   "metadata": {
    "scrolled": true
   },
   "outputs": [
    {
     "data": {
      "image/png": "[encoded data removed]",
      "text/plain": [
       "<Figure size 576x360 with 1 Axes>"
      ]
     },
     "metadata": {
      "needs_background": "light"
     },
     "output_type": "display_data"
    }
   ],
   "source": [
    "# multivariate plot of duration vs member type vs day type\n",
    "plt.figure(figsize=[8, 5])\n",
    "sb.barplot(data=cabital, x='Member type', y='Duration', hue='Day type', ci=None, palette=day_type_color)\n",
    "plt.title('Duration VS Member Type VS Day Type')\n",
    "plt.ylabel('Mean Duration (min)')\n",
    "plt.legend(bbox_to_anchor = (1,0.5),title='Day type');"
   ]
  },
  {
   "cell_type": "markdown",
   "metadata": {},
   "source": [
    "- The mean duration of trips for **casual members is longer than members for each of the day types**.\n",
    "- The mean duration of trips on **the weekends is longer than weekdays for each of the member types**.\n",
    "> Let's investigate duration vs member type vs day type"
   ]
  },
  {
   "cell_type": "code",
   "execution_count": 37,
   "metadata": {},
   "outputs": [
    {
     "data": {
      "image/png": "[encoded data removed]",
      "text/plain": [
       "<Figure size 576x360 with 1 Axes>"
      ]
     },
     "metadata": {
      "needs_background": "light"
     },
     "output_type": "display_data"
    }
   ],
   "source": [
    "# multivariate plot of duration vs member type vs season\n",
    "plt.figure(figsize=[8, 5])\n",
    "sb.barplot(data=cabital, x='Member type', y='Duration', hue='Season', ci=None, palette='turbo')\n",
    "plt.title('Duration VS. Member Type VS. Season')\n",
    "plt.ylabel('Mean Duration (min)')\n",
    "plt.legend(bbox_to_anchor = (1,0.5),title='Season');"
   ]
  },
  {
   "cell_type": "markdown",
   "metadata": {},
   "source": [
    "- **Casual members have a longer mean trip duration than members**.\n",
    "- **Winter has the shortest mean trip duration for members**.\n",
    "- **Fall has the shortest mean trip duration for casual members**.\n"
   ]
  },
  {
   "cell_type": "markdown",
   "metadata": {},
   "source": [
    "### Talk about some of the relationships you observed in this part of the investigation. Were there features that strengthened each other in terms of looking at your feature(s) of interest?\n",
    "\n",
    ">- The mean duration of trips for Spring and Summer is longer than Fall and Winter for each of the member types and for each of the day types.\n",
    ">- The mean duration of trips for casual members is longer than members for each of the day types.\n",
    ">- The mean duration of trips on the weekends is longer than weekdays for each of the member types.\n",
    ">- Casual members have a longer mean trip duration than members.\n",
    ">- Winter has the shortest mean trip duration for members.\n",
    ">- Fall has the shortest mean trip duration for casual members.\n",
    "\n",
    "\n",
    "### Were there any interesting or surprising interactions between features?\n",
    "\n",
    ">- The average trip durations are longer for casual members than members.\n",
    ">- The average trip durations are longer on weekends than weekdays."
   ]
  }
 ],
 "metadata": {
  "kernelspec": {
   "display_name": "Python 3",
   "language": "python",
   "name": "python3"
  },
  "language_info": {
   "codemirror_mode": {
    "name": "ipython",
    "version": 3
   },
   "file_extension": ".py",
   "mimetype": "text/x-python",
   "name": "python",
   "nbconvert_exporter": "python",
   "pygments_lexer": "ipython3",
   "version": "3.8.8"
  }
 },
 "nbformat": 4,
 "nbformat_minor": 2
}
